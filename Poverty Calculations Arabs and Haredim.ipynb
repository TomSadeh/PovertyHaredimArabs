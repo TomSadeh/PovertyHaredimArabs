{
 "cells": [
  {
   "cell_type": "markdown",
   "metadata": {},
   "source": [
    "Importing the required libraries."
   ]
  },
  {
   "cell_type": "code",
   "execution_count": 16,
   "metadata": {},
   "outputs": [],
   "source": [
    "import pandas as pd\n",
    "import numpy as np"
   ]
  },
  {
   "cell_type": "markdown",
   "metadata": {},
   "source": [
    "Creating a function to calculate weighted median"
   ]
  },
  {
   "cell_type": "code",
   "execution_count": 17,
   "metadata": {},
   "outputs": [],
   "source": [
    "def weighted_median(data, weights, interpolate = False):\n",
    "    \"\"\"\n",
    "    A function that calculates the weighted median of a given series of values \n",
    "    by using a series of weights.\n",
    "    \n",
    "    Parameters\n",
    "    ----------\n",
    "    data : Iterable\n",
    "        The data which the function calculates the median for.\n",
    "    weights : Iterable\n",
    "        The weights the function uses to calculate an weighted median.\n",
    "\n",
    "    Returns\n",
    "    -------\n",
    "    numpy.float64\n",
    "        The function return the weighted median.\n",
    "        \n",
    "    Required libraries\n",
    "    ---------\n",
    "    Numpy.\n",
    "    \"\"\"\n",
    "    #Forcing the data to a numpy array.\n",
    "    data = np.array(data)\n",
    "    weights = np.array(weights)\n",
    "    \n",
    "    #Sorting the data and the weights.\n",
    "    ind_sorted = np.argsort(data)\n",
    "    sorted_data = data[ind_sorted]\n",
    "    sorted_weights = weights[ind_sorted]\n",
    "   \n",
    "    #Calculating the cumulative sum of the weights.\n",
    "    sn = np.cumsum(sorted_weights)\n",
    "    \n",
    "    #Calculating the threshold.\n",
    "    threshold = sorted_weights.sum()/2\n",
    "   \n",
    "    #Interpolating the median and returning it.\n",
    "    if interpolate == False:\n",
    "        return sorted_data[sn >= threshold][0]\n",
    "    \n",
    "    #Returning the first value that equals or larger than the threshold.\n",
    "    else:\n",
    "        return np.interp(0.5, (sn - 0.5 * sorted_weights) / np.sum(sorted_weights), sorted_data)\n",
    "    "
   ]
  },
  {
   "cell_type": "markdown",
   "metadata": {},
   "source": [
    "Creating a function to calculate standard persons according to the National Insurance Institue criteria."
   ]
  },
  {
   "cell_type": "code",
   "execution_count": 18,
   "metadata": {},
   "outputs": [],
   "source": [
    "def nefesh_btl(nefesh):\n",
    "    \"\"\"\n",
    "    Parameters\n",
    "    ----------\n",
    "    nefesh : int\n",
    "        The number of persons the household has.\n",
    "\n",
    "    Returns\n",
    "    -------\n",
    "    Float\n",
    "        The standardised number of persons in the household, \n",
    "        according to National Security Institue and the Central Bureau of Statistics definition.\n",
    "    \n",
    "    Required libraries\n",
    "    ------------------\n",
    "    None.\n",
    "\n",
    "    \"\"\"\n",
    "    l = [1.25, 2, 2.65, 3.2, 3.75, 4.25, 4.75, 5.2]\n",
    "    if nefesh <= len(l) - 1:\n",
    "        return l[int(nefesh - 1)]\n",
    "    else:\n",
    "        return 5.6 + (nefesh - 9) * 0.4\n",
    "    "
   ]
  },
  {
   "cell_type": "markdown",
   "metadata": {},
   "source": [
    "Creating the main function for the calculations. The function get a DataFrame and a year iterator to calculate the results, and saves them to a different DataFrame."
   ]
  },
  {
   "cell_type": "code",
   "execution_count": 19,
   "metadata": {},
   "outputs": [],
   "source": [
    "def calc_poverty(df, results, year):\n",
    "    \"\"\"\n",
    "    Parameters\n",
    "    ----------\n",
    "    df : DataFrame\n",
    "        The DataFrame that the function uses to calculate poverty.\n",
    "    results : DataFrame\n",
    "        The DataFrame that the function saves the calculations to.\n",
    "    year : int\n",
    "        A iterator for the different survey years.\n",
    "\n",
    "    Returns\n",
    "    -------\n",
    "    DataFrame\n",
    "        The DataFrame which contains the results of the calculations.\n",
    "    \n",
    "    Required libraries\n",
    "    ------------------\n",
    "    Pandas,\n",
    "    Numpy.\n",
    "\n",
    "    \"\"\"\n",
    "    \"\"\"\n",
    "    Calculating average net income per household and average net income per standard person per household.\n",
    "    \"\"\"\n",
    "        \n",
    "    results.loc[str(year), 'mean_net'] = np.average(df['net'], weights = df['weight'])\n",
    "    results.loc[str(year), 'mean_net_to_nefesh'] = np.average(df['net']/df['nefashot'], weights = df['weight'])\n",
    "        \n",
    "    \"\"\"\n",
    "    Calculating the four different types of income that Ariel wanted, \n",
    "    and calculating the number of persons each household represent in the general population.\n",
    "    \"\"\"\n",
    "        \n",
    "    df.loc[:, 'net_to_nefesh'] = df.loc[:, 'net'] / df.loc[:, 'nefeshstandartit']\n",
    "    df.loc[:, 'bruto_to_nefesh'] = df.loc[:, 'i1kaspit'] / df.loc[:, 'nefeshstandartit']\n",
    "    df.loc[:, 'total_bruto_to_nefesh'] = (df.loc[:, 'i1kaspit'] + df.loc[:, 'iinkind']) / df.loc[:, 'nefeshstandartit']\n",
    "    df.loc[:, 'total_net_to_nefesh'] = df.loc[:, 'total_net'] / df.loc[:, 'nefeshstandartit']\n",
    "    df.loc[:, 'weight_nefesh'] = df.loc[:, 'weight'] * df.loc[:, 'nefashot']\n",
    "        \n",
    "    \"\"\"\n",
    "    Calculating the thresholds for said types of income.\n",
    "    \"\"\"\n",
    "        \n",
    "    oni_t = {\n",
    "            'net_to_nefesh': weighted_median(df['net_to_nefesh'], df['weight']) / 2,\n",
    "            'bruto_to_nefesh': weighted_median(df['bruto_to_nefesh'], df['weight']) / 2,\n",
    "            'total_bruto_to_nefesh': weighted_median(df['total_bruto_to_nefesh'], df['weight']) / 2,\n",
    "            'total_net_to_nefesh': weighted_median(df['total_net_to_nefesh'], df['weight']) / 2\n",
    "            }\n",
    "        \n",
    "    \"\"\"\n",
    "    A simple loop that save the threshold to the results DataFrame, \n",
    "    and calculate each type of poverty ratio of both households and persons.\n",
    "    \"\"\"\n",
    "        \n",
    "    for t in threshold_list:\n",
    "        results.loc[str(year), 'oni_threshold_' + t] =  oni_t[t]\n",
    "        results.loc[str(year), 'oni_hb_' + t] = df[df[t] < oni_t[t]]['weight'].sum() / df['weight'].sum()\n",
    "        results.loc[str(year), 'oni_nefashot_' + t] = df[df[t] < oni_t[t]]['weight_nefesh'].sum() / df['weight_nefesh'].sum()\n",
    "    return results.loc[str(year), :]"
   ]
  },
  {
   "cell_type": "markdown",
   "metadata": {},
   "source": [
    "Creating variables for iterating the different surveys. Switch the base_address variable to your, and DON'T erase the 'r' before the address."
   ]
  },
  {
   "cell_type": "code",
   "execution_count": 20,
   "metadata": {},
   "outputs": [],
   "source": [
    "base_address = r'C:\\Users\\dtsj8\\Google Drive (tsadeh@kohelet.org.il)\\k_data\\CBS Households Expenditures Survey\\\\'\n",
    "        \n",
    "file_names_exp = ['H20141022datamb', 'H20151021datamb', 'h20161023datamb', 'H20171022datamb', 'H20181022datamb']\n",
    "folders = ['famexp_2014\\\\', 'famexp_2015\\\\', 'famexp_2016_new\\\\', 'famexp_2017_new\\\\', 'famexp_2018_new\\\\']\n",
    "\n",
    "oni_type_list = ['oni_threshold_','oni_hb', 'oni_nefashot']\n",
    "threshold_list = ['net_to_nefesh','bruto_to_nefesh','total_bruto_to_nefesh','total_net_to_nefesh']\n",
    "\n",
    "results_lo_haredim = pd.DataFrame(index = map(str, list(np.arange(2014, 2019))))\n",
    "results_arabs = pd.DataFrame(index = map(str, list(np.arange(2014, 2019))))\n",
    "results_haredim = pd.DataFrame(index = map(str, list(np.arange(2014, 2019))))"
   ]
  },
  {
   "cell_type": "markdown",
   "metadata": {},
   "source": [
    "The main loop, which imports the relevant survey and then makes the calculations on the three different populations."
   ]
  },
  {
   "cell_type": "code",
   "execution_count": 21,
   "metadata": {
    "scrolled": true
   },
   "outputs": [
    {
     "name": "stderr",
     "output_type": "stream",
     "text": [
      "C:\\Users\\dtsj8\\Anaconda3\\lib\\site-packages\\pandas\\core\\indexing.py:845: SettingWithCopyWarning: \n",
      "A value is trying to be set on a copy of a slice from a DataFrame.\n",
      "Try using .loc[row_indexer,col_indexer] = value instead\n",
      "\n",
      "See the caveats in the documentation: https://pandas.pydata.org/pandas-docs/stable/user_guide/indexing.html#returning-a-view-versus-a-copy\n",
      "  self.obj[key] = _infer_fill_value(value)\n",
      "C:\\Users\\dtsj8\\Anaconda3\\lib\\site-packages\\pandas\\core\\indexing.py:966: SettingWithCopyWarning: \n",
      "A value is trying to be set on a copy of a slice from a DataFrame.\n",
      "Try using .loc[row_indexer,col_indexer] = value instead\n",
      "\n",
      "See the caveats in the documentation: https://pandas.pydata.org/pandas-docs/stable/user_guide/indexing.html#returning-a-view-versus-a-copy\n",
      "  self.obj[item] = s\n"
     ]
    }
   ],
   "source": [
    "for year, file_name, folder in zip(np.arange(2014, 2019), file_names_exp, folders):\n",
    "        df = pd.read_csv(base_address + folder  + file_name + '.csv')\n",
    "        \n",
    "        #Not Haredi Jews DataFrame.\n",
    "        df_lo_haredim = df[(df['Nationality'] == 1) & (df['RamatDatiyut'] != 4)]\n",
    "        \n",
    "        #Haredi Jews DataFrame.\n",
    "        df_haredim = df[(df['Nationality'] == 1) & (df['RamatDatiyut'] == 4)]\n",
    "        \n",
    "        #Arabs DataFrame.\n",
    "        df_arabs = df[(df['Nationality'] == 2)]\n",
    "        \n",
    "        #\n",
    "        results_lo_haredim.loc[str(year), :] = calc_poverty(df_lo_haredim, results_lo_haredim, year)\n",
    "        results_haredim.loc[str(year), :] = calc_poverty(df_haredim, results_haredim, year)\n",
    "        results_arabs.loc[str(year), :] = calc_poverty(df_arabs, results_arabs, year)\n"
   ]
  },
  {
   "cell_type": "markdown",
   "metadata": {},
   "source": [
    "Exporting the results. switch the address to yours and DON'T delete the 'r' before the address."
   ]
  },
  {
   "cell_type": "code",
   "execution_count": 22,
   "metadata": {},
   "outputs": [],
   "source": [
    "results_folder = r'C:\\Users\\dtsj8\\OneDrive\\Documents\\Work\\Poverty Calculations\\\\'\n",
    "results_lo_haredim.to_csv(results_folder + 'lo haredim.csv')\n",
    "results_haredim.to_csv(results_folder + 'haredim.csv')\n",
    "results_arabs.to_csv(results_folder + 'arabs.csv')"
   ]
  }
 ],
 "metadata": {
  "kernelspec": {
   "display_name": "Python 3",
   "language": "python",
   "name": "python3"
  },
  "language_info": {
   "codemirror_mode": {
    "name": "ipython",
    "version": 3
   },
   "file_extension": ".py",
   "mimetype": "text/x-python",
   "name": "python",
   "nbconvert_exporter": "python",
   "pygments_lexer": "ipython3",
   "version": "3.8.3"
  }
 },
 "nbformat": 4,
 "nbformat_minor": 4
}
